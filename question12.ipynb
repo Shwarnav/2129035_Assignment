{
 "cells": [
  {
   "cell_type": "code",
   "execution_count": 31,
   "metadata": {},
   "outputs": [],
   "source": [
    "# Q12. prove that tan^-1(cosx/1+sinx)=π/4-x/2\n",
    "import numpy as np\n",
    "import pandas as pd \n",
    "import sympy as sym\n",
    "import math"
   ]
  },
  {
   "cell_type": "code",
   "execution_count": 36,
   "metadata": {},
   "outputs": [
    {
     "name": "stdout",
     "output_type": "stream",
     "text": [
      "1.2853981633974483 = 1.2853981633974483\n",
      "LHS=RHS\n",
      "Hence proved\n"
     ]
    }
   ],
   "source": [
    "x=sym.symbols('x')\n",
    "e1=sym.atan(sym.cos(x)/(1-sym.sin(x)))\n",
    "e2=sym.pi/4+x/2\n",
    "a=int(input(\"Enter the value of x: \"))\n",
    "a1=math.atan(math.cos(a)/(1-math.sin(a)))\n",
    "a2=(math.pi/4 + a*1.0/2)\n",
    "if(a1==a2):\n",
    "    print(a1,\"=\",a2)\n",
    "    print(\"LHS=RHS\\nHence proved\")\n",
    "else:\n",
    "    print(\"LHS is not equal to RHS\\n\")"
   ]
  }
 ],
 "metadata": {
  "kernelspec": {
   "display_name": "Python 3.9.12 ('base')",
   "language": "python",
   "name": "python3"
  },
  "language_info": {
   "codemirror_mode": {
    "name": "ipython",
    "version": 3
   },
   "file_extension": ".py",
   "mimetype": "text/x-python",
   "name": "python",
   "nbconvert_exporter": "python",
   "pygments_lexer": "ipython3",
   "version": "3.9.12"
  },
  "orig_nbformat": 4,
  "vscode": {
   "interpreter": {
    "hash": "530219143d35336307c4e71c62e86952d4af021e0d8cd486539f9a68941d86ce"
   }
  }
 },
 "nbformat": 4,
 "nbformat_minor": 2
}
