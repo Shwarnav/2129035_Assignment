{
 "cells": [
  {
   "cell_type": "code",
   "execution_count": 4,
   "metadata": {},
   "outputs": [],
   "source": [
    "#Q1.Find the approximate change in the value of 1/x when x changes from 2 to 100\n",
    "import numpy as np\n",
    "import pandas as pd \n",
    "import sympy as sym"
   ]
  },
  {
   "cell_type": "code",
   "execution_count": 18,
   "metadata": {},
   "outputs": [
    {
     "data": {
      "text/latex": [
       "$\\displaystyle - \\frac{49}{2}$"
      ],
      "text/plain": [
       "-49/2"
      ]
     },
     "execution_count": 18,
     "metadata": {},
     "output_type": "execute_result"
    }
   ],
   "source": [
    "x,y=sym.symbols('x y')\n",
    "y=sym.diff(1/x**2,x)*(100-2)\n",
    "y.doit().subs({x:2})"
   ]
  }
 ],
 "metadata": {
  "kernelspec": {
   "display_name": "Python 3.9.13 64-bit (windows store)",
   "language": "python",
   "name": "python3"
  },
  "language_info": {
   "codemirror_mode": {
    "name": "ipython",
    "version": 3
   },
   "file_extension": ".py",
   "mimetype": "text/x-python",
   "name": "python",
   "nbconvert_exporter": "python",
   "pygments_lexer": "ipython3",
   "version": "3.9.13"
  },
  "orig_nbformat": 4,
  "vscode": {
   "interpreter": {
    "hash": "42b171173ad9a6425a1851a85c99dfaa75c3f35860be81137147b9d579bd7d49"
   }
  }
 },
 "nbformat": 4,
 "nbformat_minor": 2
}
